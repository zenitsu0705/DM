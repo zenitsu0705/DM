{
  "nbformat": 4,
  "nbformat_minor": 0,
  "metadata": {
    "colab": {
      "provenance": [],
      "authorship_tag": "ABX9TyO5SF1q+9oAM4T5u8PEAJxg",
      "include_colab_link": true
    },
    "kernelspec": {
      "name": "python3",
      "display_name": "Python 3"
    },
    "language_info": {
      "name": "python"
    }
  },
  "cells": [
    {
      "cell_type": "markdown",
      "metadata": {
        "id": "view-in-github",
        "colab_type": "text"
      },
      "source": [
        "<a href=\"https://colab.research.google.com/github/zenitsu0705/DM/blob/main/FpgrowthTree.ipynb\" target=\"_parent\"><img src=\"https://colab.research.google.com/assets/colab-badge.svg\" alt=\"Open In Colab\"/></a>"
      ]
    },
    {
      "cell_type": "code",
      "execution_count": 1,
      "metadata": {
        "colab": {
          "base_uri": "https://localhost:8080/"
        },
        "id": "86gWVForQROg",
        "outputId": "23ca3c2c-1aab-4277-ddfe-649fe97f8a8d"
      },
      "outputs": [
        {
          "output_type": "stream",
          "name": "stdout",
          "text": [
            "Looking in indexes: https://pypi.org/simple, https://us-python.pkg.dev/colab-wheels/public/simple/\n",
            "Collecting pyfpgrowth\n",
            "  Downloading pyfpgrowth-1.0.tar.gz (1.6 MB)\n",
            "\u001b[K     |████████████████████████████████| 1.6 MB 5.0 MB/s \n",
            "\u001b[?25hBuilding wheels for collected packages: pyfpgrowth\n",
            "  Building wheel for pyfpgrowth (setup.py) ... \u001b[?25l\u001b[?25hdone\n",
            "  Created wheel for pyfpgrowth: filename=pyfpgrowth-1.0-py2.py3-none-any.whl size=5505 sha256=ab908f97f929fb2046438bba6e915a8822c4becc363cace2c06c449a505299bd\n",
            "  Stored in directory: /root/.cache/pip/wheels/29/e2/a7/ccb34c35e2c6737d3f09b53784f4323b7ff556a5f02096c70d\n",
            "Successfully built pyfpgrowth\n",
            "Installing collected packages: pyfpgrowth\n",
            "Successfully installed pyfpgrowth-1.0\n"
          ]
        }
      ],
      "source": [
        "pip install pyfpgrowth"
      ]
    },
    {
      "cell_type": "code",
      "source": [
        "import pyfpgrowth"
      ],
      "metadata": {
        "id": "x3dVbYfKQaBI"
      },
      "execution_count": 2,
      "outputs": []
    },
    {
      "cell_type": "code",
      "source": [
        "transactions = [[\"milk\",\"bread\",\"coffee\"],[\"coffee\",\"boost\"]]\n",
        "FrequentPatterns = pyfpgrowth.find_frequent_patterns(transactions = transactions, support_threshold = 0.5)\n",
        "FrequentPatterns"
      ],
      "metadata": {
        "colab": {
          "base_uri": "https://localhost:8080/"
        },
        "id": "1KZqt43aQhHd",
        "outputId": "e08da80c-1ffc-4787-9781-3e37de7b6a59"
      },
      "execution_count": 3,
      "outputs": [
        {
          "output_type": "execute_result",
          "data": {
            "text/plain": [
              "{('milk',): 1,\n",
              " ('coffee', 'milk'): 1,\n",
              " ('bread',): 1,\n",
              " ('bread', 'milk'): 1,\n",
              " ('bread', 'coffee'): 1,\n",
              " ('bread', 'coffee', 'milk'): 1,\n",
              " ('boost',): 1,\n",
              " ('boost', 'coffee'): 1,\n",
              " ('coffee',): 2}"
            ]
          },
          "metadata": {},
          "execution_count": 3
        }
      ]
    },
    {
      "cell_type": "code",
      "source": [
        "rules = pyfpgrowth.generate_association_rules(patterns = FrequentPatterns, confidence_threshold = 0.5)"
      ],
      "metadata": {
        "id": "1V87oQyWRDdu"
      },
      "execution_count": 7,
      "outputs": []
    },
    {
      "cell_type": "code",
      "source": [
        "rules"
      ],
      "metadata": {
        "colab": {
          "base_uri": "https://localhost:8080/"
        },
        "id": "4v4jyZ4AR79s",
        "outputId": "fa116cd4-0074-4c72-d700-954f0f54a24a"
      },
      "execution_count": 8,
      "outputs": [
        {
          "output_type": "execute_result",
          "data": {
            "text/plain": [
              "{('coffee',): (('boost',), 0.5),\n",
              " ('milk',): (('bread', 'coffee'), 1.0),\n",
              " ('bread',): (('coffee', 'milk'), 1.0),\n",
              " ('bread', 'coffee'): (('milk',), 1.0),\n",
              " ('bread', 'milk'): (('coffee',), 1.0),\n",
              " ('coffee', 'milk'): (('bread',), 1.0),\n",
              " ('boost',): (('coffee',), 1.0)}"
            ]
          },
          "metadata": {},
          "execution_count": 8
        }
      ]
    }
  ]
}