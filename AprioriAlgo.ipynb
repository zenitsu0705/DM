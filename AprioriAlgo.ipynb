{
  "nbformat": 4,
  "nbformat_minor": 0,
  "metadata": {
    "colab": {
      "provenance": [],
      "authorship_tag": "ABX9TyMpJwkiRzYzCVDO5/CT6O6r",
      "include_colab_link": true
    },
    "kernelspec": {
      "name": "python3",
      "display_name": "Python 3"
    },
    "language_info": {
      "name": "python"
    }
  },
  "cells": [
    {
      "cell_type": "markdown",
      "metadata": {
        "id": "view-in-github",
        "colab_type": "text"
      },
      "source": [
        "<a href=\"https://colab.research.google.com/github/zenitsu0705/DM/blob/main/AprioriAlgo.ipynb\" target=\"_parent\"><img src=\"https://colab.research.google.com/assets/colab-badge.svg\" alt=\"Open In Colab\"/></a>"
      ]
    },
    {
      "cell_type": "code",
      "execution_count": 1,
      "metadata": {
        "colab": {
          "base_uri": "https://localhost:8080/"
        },
        "id": "2ExLe-YeHuy_",
        "outputId": "3176f9df-48cc-451b-d804-0636ed07600e"
      },
      "outputs": [
        {
          "output_type": "stream",
          "name": "stdout",
          "text": [
            "Looking in indexes: https://pypi.org/simple, https://us-python.pkg.dev/colab-wheels/public/simple/\n",
            "Collecting apyori\n",
            "  Downloading apyori-1.1.2.tar.gz (8.6 kB)\n",
            "Building wheels for collected packages: apyori\n",
            "  Building wheel for apyori (setup.py) ... \u001b[?25l\u001b[?25hdone\n",
            "  Created wheel for apyori: filename=apyori-1.1.2-py3-none-any.whl size=5973 sha256=5d97e722f88f8f559494114367d6980d05176d3fc8bad33cd3344aa18bfdf180\n",
            "  Stored in directory: /root/.cache/pip/wheels/1b/02/6c/a45230be8603bd95c0a51cd2b289aefdd860c1a100eab73661\n",
            "Successfully built apyori\n",
            "Installing collected packages: apyori\n",
            "Successfully installed apyori-1.1.2\n"
          ]
        }
      ],
      "source": [
        "pip install apyori"
      ]
    },
    {
      "cell_type": "code",
      "source": [
        "import numpy as np\n",
        "import pandas as pd\n",
        "from apyori import apriori"
      ],
      "metadata": {
        "id": "0NNud_0rNflu"
      },
      "execution_count": 2,
      "outputs": []
    },
    {
      "cell_type": "code",
      "source": [
        "data = pd.read_csv('/content/Day1.csv')\n",
        "data"
      ],
      "metadata": {
        "colab": {
          "base_uri": "https://localhost:8080/",
          "height": 175
        },
        "id": "hM49Y8qpNomT",
        "outputId": "e2646d18-76ed-4005-e4d1-6a6fad5203c2"
      },
      "execution_count": 7,
      "outputs": [
        {
          "output_type": "execute_result",
          "data": {
            "text/plain": [
              "   milk  bread  sugar  ghee  jaggery  curd\n",
              "0  milk    NaN  sugar   NaN  jaggery   NaN\n",
              "1   NaN  bread  sugar  ghee      NaN   NaN\n",
              "2  milk    NaN  sugar   NaN      NaN   NaN\n",
              "3   NaN  bread  sugar  ghee  jaggery   NaN"
            ],
            "text/html": [
              "\n",
              "  <div id=\"df-3a2f70ae-d80a-41d3-9d01-180eb69b1c66\">\n",
              "    <div class=\"colab-df-container\">\n",
              "      <div>\n",
              "<style scoped>\n",
              "    .dataframe tbody tr th:only-of-type {\n",
              "        vertical-align: middle;\n",
              "    }\n",
              "\n",
              "    .dataframe tbody tr th {\n",
              "        vertical-align: top;\n",
              "    }\n",
              "\n",
              "    .dataframe thead th {\n",
              "        text-align: right;\n",
              "    }\n",
              "</style>\n",
              "<table border=\"1\" class=\"dataframe\">\n",
              "  <thead>\n",
              "    <tr style=\"text-align: right;\">\n",
              "      <th></th>\n",
              "      <th>milk</th>\n",
              "      <th>bread</th>\n",
              "      <th>sugar</th>\n",
              "      <th>ghee</th>\n",
              "      <th>jaggery</th>\n",
              "      <th>curd</th>\n",
              "    </tr>\n",
              "  </thead>\n",
              "  <tbody>\n",
              "    <tr>\n",
              "      <th>0</th>\n",
              "      <td>milk</td>\n",
              "      <td>NaN</td>\n",
              "      <td>sugar</td>\n",
              "      <td>NaN</td>\n",
              "      <td>jaggery</td>\n",
              "      <td>NaN</td>\n",
              "    </tr>\n",
              "    <tr>\n",
              "      <th>1</th>\n",
              "      <td>NaN</td>\n",
              "      <td>bread</td>\n",
              "      <td>sugar</td>\n",
              "      <td>ghee</td>\n",
              "      <td>NaN</td>\n",
              "      <td>NaN</td>\n",
              "    </tr>\n",
              "    <tr>\n",
              "      <th>2</th>\n",
              "      <td>milk</td>\n",
              "      <td>NaN</td>\n",
              "      <td>sugar</td>\n",
              "      <td>NaN</td>\n",
              "      <td>NaN</td>\n",
              "      <td>NaN</td>\n",
              "    </tr>\n",
              "    <tr>\n",
              "      <th>3</th>\n",
              "      <td>NaN</td>\n",
              "      <td>bread</td>\n",
              "      <td>sugar</td>\n",
              "      <td>ghee</td>\n",
              "      <td>jaggery</td>\n",
              "      <td>NaN</td>\n",
              "    </tr>\n",
              "  </tbody>\n",
              "</table>\n",
              "</div>\n",
              "      <button class=\"colab-df-convert\" onclick=\"convertToInteractive('df-3a2f70ae-d80a-41d3-9d01-180eb69b1c66')\"\n",
              "              title=\"Convert this dataframe to an interactive table.\"\n",
              "              style=\"display:none;\">\n",
              "        \n",
              "  <svg xmlns=\"http://www.w3.org/2000/svg\" height=\"24px\"viewBox=\"0 0 24 24\"\n",
              "       width=\"24px\">\n",
              "    <path d=\"M0 0h24v24H0V0z\" fill=\"none\"/>\n",
              "    <path d=\"M18.56 5.44l.94 2.06.94-2.06 2.06-.94-2.06-.94-.94-2.06-.94 2.06-2.06.94zm-11 1L8.5 8.5l.94-2.06 2.06-.94-2.06-.94L8.5 2.5l-.94 2.06-2.06.94zm10 10l.94 2.06.94-2.06 2.06-.94-2.06-.94-.94-2.06-.94 2.06-2.06.94z\"/><path d=\"M17.41 7.96l-1.37-1.37c-.4-.4-.92-.59-1.43-.59-.52 0-1.04.2-1.43.59L10.3 9.45l-7.72 7.72c-.78.78-.78 2.05 0 2.83L4 21.41c.39.39.9.59 1.41.59.51 0 1.02-.2 1.41-.59l7.78-7.78 2.81-2.81c.8-.78.8-2.07 0-2.86zM5.41 20L4 18.59l7.72-7.72 1.47 1.35L5.41 20z\"/>\n",
              "  </svg>\n",
              "      </button>\n",
              "      \n",
              "  <style>\n",
              "    .colab-df-container {\n",
              "      display:flex;\n",
              "      flex-wrap:wrap;\n",
              "      gap: 12px;\n",
              "    }\n",
              "\n",
              "    .colab-df-convert {\n",
              "      background-color: #E8F0FE;\n",
              "      border: none;\n",
              "      border-radius: 50%;\n",
              "      cursor: pointer;\n",
              "      display: none;\n",
              "      fill: #1967D2;\n",
              "      height: 32px;\n",
              "      padding: 0 0 0 0;\n",
              "      width: 32px;\n",
              "    }\n",
              "\n",
              "    .colab-df-convert:hover {\n",
              "      background-color: #E2EBFA;\n",
              "      box-shadow: 0px 1px 2px rgba(60, 64, 67, 0.3), 0px 1px 3px 1px rgba(60, 64, 67, 0.15);\n",
              "      fill: #174EA6;\n",
              "    }\n",
              "\n",
              "    [theme=dark] .colab-df-convert {\n",
              "      background-color: #3B4455;\n",
              "      fill: #D2E3FC;\n",
              "    }\n",
              "\n",
              "    [theme=dark] .colab-df-convert:hover {\n",
              "      background-color: #434B5C;\n",
              "      box-shadow: 0px 1px 3px 1px rgba(0, 0, 0, 0.15);\n",
              "      filter: drop-shadow(0px 1px 2px rgba(0, 0, 0, 0.3));\n",
              "      fill: #FFFFFF;\n",
              "    }\n",
              "  </style>\n",
              "\n",
              "      <script>\n",
              "        const buttonEl =\n",
              "          document.querySelector('#df-3a2f70ae-d80a-41d3-9d01-180eb69b1c66 button.colab-df-convert');\n",
              "        buttonEl.style.display =\n",
              "          google.colab.kernel.accessAllowed ? 'block' : 'none';\n",
              "\n",
              "        async function convertToInteractive(key) {\n",
              "          const element = document.querySelector('#df-3a2f70ae-d80a-41d3-9d01-180eb69b1c66');\n",
              "          const dataTable =\n",
              "            await google.colab.kernel.invokeFunction('convertToInteractive',\n",
              "                                                     [key], {});\n",
              "          if (!dataTable) return;\n",
              "\n",
              "          const docLinkHtml = 'Like what you see? Visit the ' +\n",
              "            '<a target=\"_blank\" href=https://colab.research.google.com/notebooks/data_table.ipynb>data table notebook</a>'\n",
              "            + ' to learn more about interactive tables.';\n",
              "          element.innerHTML = '';\n",
              "          dataTable['output_type'] = 'display_data';\n",
              "          await google.colab.output.renderOutput(dataTable, element);\n",
              "          const docLink = document.createElement('div');\n",
              "          docLink.innerHTML = docLinkHtml;\n",
              "          element.appendChild(docLink);\n",
              "        }\n",
              "      </script>\n",
              "    </div>\n",
              "  </div>\n",
              "  "
            ]
          },
          "metadata": {},
          "execution_count": 7
        }
      ]
    },
    {
      "cell_type": "code",
      "source": [
        "data.shape"
      ],
      "metadata": {
        "colab": {
          "base_uri": "https://localhost:8080/"
        },
        "id": "yaFklsnYO-_J",
        "outputId": "9bb4d46e-16be-48b8-9d0c-0a5cf3a6edbf"
      },
      "execution_count": 8,
      "outputs": [
        {
          "output_type": "execute_result",
          "data": {
            "text/plain": [
              "(4, 6)"
            ]
          },
          "metadata": {},
          "execution_count": 8
        }
      ]
    },
    {
      "cell_type": "code",
      "source": [
        "records = []\n",
        "for i in range(0,4):\n",
        "  records.append([str(data.values[i][j]) for j in range(0,6)])"
      ],
      "metadata": {
        "id": "KMTzAdoiPDFu"
      },
      "execution_count": 9,
      "outputs": []
    },
    {
      "cell_type": "code",
      "source": [
        "ass_rules = apriori(records, min_support = 0.5, confidence = 0.7)\n",
        "results = list(ass_rules)\n",
        "results"
      ],
      "metadata": {
        "colab": {
          "base_uri": "https://localhost:8080/"
        },
        "id": "pgDlcfU0PaPN",
        "outputId": "c943a49d-6fc6-460e-f2bb-b31d07598631"
      },
      "execution_count": 10,
      "outputs": [
        {
          "output_type": "execute_result",
          "data": {
            "text/plain": [
              "[RelationRecord(items=frozenset({'bread'}), support=0.5, ordered_statistics=[OrderedStatistic(items_base=frozenset(), items_add=frozenset({'bread'}), confidence=0.5, lift=1.0)]),\n",
              " RelationRecord(items=frozenset({'ghee'}), support=0.5, ordered_statistics=[OrderedStatistic(items_base=frozenset(), items_add=frozenset({'ghee'}), confidence=0.5, lift=1.0)]),\n",
              " RelationRecord(items=frozenset({'jaggery'}), support=0.5, ordered_statistics=[OrderedStatistic(items_base=frozenset(), items_add=frozenset({'jaggery'}), confidence=0.5, lift=1.0)]),\n",
              " RelationRecord(items=frozenset({'milk'}), support=0.5, ordered_statistics=[OrderedStatistic(items_base=frozenset(), items_add=frozenset({'milk'}), confidence=0.5, lift=1.0)]),\n",
              " RelationRecord(items=frozenset({'nan'}), support=1.0, ordered_statistics=[OrderedStatistic(items_base=frozenset(), items_add=frozenset({'nan'}), confidence=1.0, lift=1.0)]),\n",
              " RelationRecord(items=frozenset({'sugar'}), support=1.0, ordered_statistics=[OrderedStatistic(items_base=frozenset(), items_add=frozenset({'sugar'}), confidence=1.0, lift=1.0)]),\n",
              " RelationRecord(items=frozenset({'ghee', 'bread'}), support=0.5, ordered_statistics=[OrderedStatistic(items_base=frozenset(), items_add=frozenset({'ghee', 'bread'}), confidence=0.5, lift=1.0), OrderedStatistic(items_base=frozenset({'bread'}), items_add=frozenset({'ghee'}), confidence=1.0, lift=2.0), OrderedStatistic(items_base=frozenset({'ghee'}), items_add=frozenset({'bread'}), confidence=1.0, lift=2.0)]),\n",
              " RelationRecord(items=frozenset({'nan', 'bread'}), support=0.5, ordered_statistics=[OrderedStatistic(items_base=frozenset(), items_add=frozenset({'nan', 'bread'}), confidence=0.5, lift=1.0), OrderedStatistic(items_base=frozenset({'bread'}), items_add=frozenset({'nan'}), confidence=1.0, lift=1.0), OrderedStatistic(items_base=frozenset({'nan'}), items_add=frozenset({'bread'}), confidence=0.5, lift=1.0)]),\n",
              " RelationRecord(items=frozenset({'sugar', 'bread'}), support=0.5, ordered_statistics=[OrderedStatistic(items_base=frozenset(), items_add=frozenset({'sugar', 'bread'}), confidence=0.5, lift=1.0), OrderedStatistic(items_base=frozenset({'bread'}), items_add=frozenset({'sugar'}), confidence=1.0, lift=1.0), OrderedStatistic(items_base=frozenset({'sugar'}), items_add=frozenset({'bread'}), confidence=0.5, lift=1.0)]),\n",
              " RelationRecord(items=frozenset({'ghee', 'nan'}), support=0.5, ordered_statistics=[OrderedStatistic(items_base=frozenset(), items_add=frozenset({'ghee', 'nan'}), confidence=0.5, lift=1.0), OrderedStatistic(items_base=frozenset({'ghee'}), items_add=frozenset({'nan'}), confidence=1.0, lift=1.0), OrderedStatistic(items_base=frozenset({'nan'}), items_add=frozenset({'ghee'}), confidence=0.5, lift=1.0)]),\n",
              " RelationRecord(items=frozenset({'ghee', 'sugar'}), support=0.5, ordered_statistics=[OrderedStatistic(items_base=frozenset(), items_add=frozenset({'ghee', 'sugar'}), confidence=0.5, lift=1.0), OrderedStatistic(items_base=frozenset({'ghee'}), items_add=frozenset({'sugar'}), confidence=1.0, lift=1.0), OrderedStatistic(items_base=frozenset({'sugar'}), items_add=frozenset({'ghee'}), confidence=0.5, lift=1.0)]),\n",
              " RelationRecord(items=frozenset({'nan', 'jaggery'}), support=0.5, ordered_statistics=[OrderedStatistic(items_base=frozenset(), items_add=frozenset({'nan', 'jaggery'}), confidence=0.5, lift=1.0), OrderedStatistic(items_base=frozenset({'jaggery'}), items_add=frozenset({'nan'}), confidence=1.0, lift=1.0), OrderedStatistic(items_base=frozenset({'nan'}), items_add=frozenset({'jaggery'}), confidence=0.5, lift=1.0)]),\n",
              " RelationRecord(items=frozenset({'sugar', 'jaggery'}), support=0.5, ordered_statistics=[OrderedStatistic(items_base=frozenset(), items_add=frozenset({'sugar', 'jaggery'}), confidence=0.5, lift=1.0), OrderedStatistic(items_base=frozenset({'jaggery'}), items_add=frozenset({'sugar'}), confidence=1.0, lift=1.0), OrderedStatistic(items_base=frozenset({'sugar'}), items_add=frozenset({'jaggery'}), confidence=0.5, lift=1.0)]),\n",
              " RelationRecord(items=frozenset({'nan', 'milk'}), support=0.5, ordered_statistics=[OrderedStatistic(items_base=frozenset(), items_add=frozenset({'nan', 'milk'}), confidence=0.5, lift=1.0), OrderedStatistic(items_base=frozenset({'milk'}), items_add=frozenset({'nan'}), confidence=1.0, lift=1.0), OrderedStatistic(items_base=frozenset({'nan'}), items_add=frozenset({'milk'}), confidence=0.5, lift=1.0)]),\n",
              " RelationRecord(items=frozenset({'sugar', 'milk'}), support=0.5, ordered_statistics=[OrderedStatistic(items_base=frozenset(), items_add=frozenset({'sugar', 'milk'}), confidence=0.5, lift=1.0), OrderedStatistic(items_base=frozenset({'milk'}), items_add=frozenset({'sugar'}), confidence=1.0, lift=1.0), OrderedStatistic(items_base=frozenset({'sugar'}), items_add=frozenset({'milk'}), confidence=0.5, lift=1.0)]),\n",
              " RelationRecord(items=frozenset({'nan', 'sugar'}), support=1.0, ordered_statistics=[OrderedStatistic(items_base=frozenset(), items_add=frozenset({'nan', 'sugar'}), confidence=1.0, lift=1.0), OrderedStatistic(items_base=frozenset({'nan'}), items_add=frozenset({'sugar'}), confidence=1.0, lift=1.0), OrderedStatistic(items_base=frozenset({'sugar'}), items_add=frozenset({'nan'}), confidence=1.0, lift=1.0)]),\n",
              " RelationRecord(items=frozenset({'ghee', 'bread', 'nan'}), support=0.5, ordered_statistics=[OrderedStatistic(items_base=frozenset(), items_add=frozenset({'ghee', 'bread', 'nan'}), confidence=0.5, lift=1.0), OrderedStatistic(items_base=frozenset({'bread'}), items_add=frozenset({'ghee', 'nan'}), confidence=1.0, lift=2.0), OrderedStatistic(items_base=frozenset({'ghee'}), items_add=frozenset({'nan', 'bread'}), confidence=1.0, lift=2.0), OrderedStatistic(items_base=frozenset({'nan'}), items_add=frozenset({'ghee', 'bread'}), confidence=0.5, lift=1.0), OrderedStatistic(items_base=frozenset({'ghee', 'bread'}), items_add=frozenset({'nan'}), confidence=1.0, lift=1.0), OrderedStatistic(items_base=frozenset({'nan', 'bread'}), items_add=frozenset({'ghee'}), confidence=1.0, lift=2.0), OrderedStatistic(items_base=frozenset({'ghee', 'nan'}), items_add=frozenset({'bread'}), confidence=1.0, lift=2.0)]),\n",
              " RelationRecord(items=frozenset({'ghee', 'bread', 'sugar'}), support=0.5, ordered_statistics=[OrderedStatistic(items_base=frozenset(), items_add=frozenset({'ghee', 'bread', 'sugar'}), confidence=0.5, lift=1.0), OrderedStatistic(items_base=frozenset({'bread'}), items_add=frozenset({'ghee', 'sugar'}), confidence=1.0, lift=2.0), OrderedStatistic(items_base=frozenset({'ghee'}), items_add=frozenset({'sugar', 'bread'}), confidence=1.0, lift=2.0), OrderedStatistic(items_base=frozenset({'sugar'}), items_add=frozenset({'ghee', 'bread'}), confidence=0.5, lift=1.0), OrderedStatistic(items_base=frozenset({'ghee', 'bread'}), items_add=frozenset({'sugar'}), confidence=1.0, lift=1.0), OrderedStatistic(items_base=frozenset({'sugar', 'bread'}), items_add=frozenset({'ghee'}), confidence=1.0, lift=2.0), OrderedStatistic(items_base=frozenset({'ghee', 'sugar'}), items_add=frozenset({'bread'}), confidence=1.0, lift=2.0)]),\n",
              " RelationRecord(items=frozenset({'nan', 'bread', 'sugar'}), support=0.5, ordered_statistics=[OrderedStatistic(items_base=frozenset(), items_add=frozenset({'nan', 'bread', 'sugar'}), confidence=0.5, lift=1.0), OrderedStatistic(items_base=frozenset({'bread'}), items_add=frozenset({'nan', 'sugar'}), confidence=1.0, lift=1.0), OrderedStatistic(items_base=frozenset({'nan'}), items_add=frozenset({'sugar', 'bread'}), confidence=0.5, lift=1.0), OrderedStatistic(items_base=frozenset({'sugar'}), items_add=frozenset({'nan', 'bread'}), confidence=0.5, lift=1.0), OrderedStatistic(items_base=frozenset({'nan', 'bread'}), items_add=frozenset({'sugar'}), confidence=1.0, lift=1.0), OrderedStatistic(items_base=frozenset({'sugar', 'bread'}), items_add=frozenset({'nan'}), confidence=1.0, lift=1.0), OrderedStatistic(items_base=frozenset({'nan', 'sugar'}), items_add=frozenset({'bread'}), confidence=0.5, lift=1.0)]),\n",
              " RelationRecord(items=frozenset({'ghee', 'nan', 'sugar'}), support=0.5, ordered_statistics=[OrderedStatistic(items_base=frozenset(), items_add=frozenset({'ghee', 'nan', 'sugar'}), confidence=0.5, lift=1.0), OrderedStatistic(items_base=frozenset({'ghee'}), items_add=frozenset({'nan', 'sugar'}), confidence=1.0, lift=1.0), OrderedStatistic(items_base=frozenset({'nan'}), items_add=frozenset({'ghee', 'sugar'}), confidence=0.5, lift=1.0), OrderedStatistic(items_base=frozenset({'sugar'}), items_add=frozenset({'ghee', 'nan'}), confidence=0.5, lift=1.0), OrderedStatistic(items_base=frozenset({'ghee', 'nan'}), items_add=frozenset({'sugar'}), confidence=1.0, lift=1.0), OrderedStatistic(items_base=frozenset({'ghee', 'sugar'}), items_add=frozenset({'nan'}), confidence=1.0, lift=1.0), OrderedStatistic(items_base=frozenset({'nan', 'sugar'}), items_add=frozenset({'ghee'}), confidence=0.5, lift=1.0)]),\n",
              " RelationRecord(items=frozenset({'nan', 'sugar', 'jaggery'}), support=0.5, ordered_statistics=[OrderedStatistic(items_base=frozenset(), items_add=frozenset({'nan', 'jaggery', 'sugar'}), confidence=0.5, lift=1.0), OrderedStatistic(items_base=frozenset({'jaggery'}), items_add=frozenset({'nan', 'sugar'}), confidence=1.0, lift=1.0), OrderedStatistic(items_base=frozenset({'nan'}), items_add=frozenset({'sugar', 'jaggery'}), confidence=0.5, lift=1.0), OrderedStatistic(items_base=frozenset({'sugar'}), items_add=frozenset({'nan', 'jaggery'}), confidence=0.5, lift=1.0), OrderedStatistic(items_base=frozenset({'nan', 'jaggery'}), items_add=frozenset({'sugar'}), confidence=1.0, lift=1.0), OrderedStatistic(items_base=frozenset({'sugar', 'jaggery'}), items_add=frozenset({'nan'}), confidence=1.0, lift=1.0), OrderedStatistic(items_base=frozenset({'nan', 'sugar'}), items_add=frozenset({'jaggery'}), confidence=0.5, lift=1.0)]),\n",
              " RelationRecord(items=frozenset({'nan', 'sugar', 'milk'}), support=0.5, ordered_statistics=[OrderedStatistic(items_base=frozenset(), items_add=frozenset({'nan', 'sugar', 'milk'}), confidence=0.5, lift=1.0), OrderedStatistic(items_base=frozenset({'milk'}), items_add=frozenset({'nan', 'sugar'}), confidence=1.0, lift=1.0), OrderedStatistic(items_base=frozenset({'nan'}), items_add=frozenset({'sugar', 'milk'}), confidence=0.5, lift=1.0), OrderedStatistic(items_base=frozenset({'sugar'}), items_add=frozenset({'nan', 'milk'}), confidence=0.5, lift=1.0), OrderedStatistic(items_base=frozenset({'nan', 'milk'}), items_add=frozenset({'sugar'}), confidence=1.0, lift=1.0), OrderedStatistic(items_base=frozenset({'sugar', 'milk'}), items_add=frozenset({'nan'}), confidence=1.0, lift=1.0), OrderedStatistic(items_base=frozenset({'nan', 'sugar'}), items_add=frozenset({'milk'}), confidence=0.5, lift=1.0)]),\n",
              " RelationRecord(items=frozenset({'ghee', 'bread', 'sugar', 'nan'}), support=0.5, ordered_statistics=[OrderedStatistic(items_base=frozenset(), items_add=frozenset({'ghee', 'bread', 'sugar', 'nan'}), confidence=0.5, lift=1.0), OrderedStatistic(items_base=frozenset({'bread'}), items_add=frozenset({'ghee', 'nan', 'sugar'}), confidence=1.0, lift=2.0), OrderedStatistic(items_base=frozenset({'ghee'}), items_add=frozenset({'sugar', 'bread', 'nan'}), confidence=1.0, lift=2.0), OrderedStatistic(items_base=frozenset({'nan'}), items_add=frozenset({'ghee', 'bread', 'sugar'}), confidence=0.5, lift=1.0), OrderedStatistic(items_base=frozenset({'sugar'}), items_add=frozenset({'ghee', 'bread', 'nan'}), confidence=0.5, lift=1.0), OrderedStatistic(items_base=frozenset({'ghee', 'bread'}), items_add=frozenset({'sugar', 'nan'}), confidence=1.0, lift=1.0), OrderedStatistic(items_base=frozenset({'nan', 'bread'}), items_add=frozenset({'ghee', 'sugar'}), confidence=1.0, lift=2.0), OrderedStatistic(items_base=frozenset({'sugar', 'bread'}), items_add=frozenset({'ghee', 'nan'}), confidence=1.0, lift=2.0), OrderedStatistic(items_base=frozenset({'ghee', 'nan'}), items_add=frozenset({'sugar', 'bread'}), confidence=1.0, lift=2.0), OrderedStatistic(items_base=frozenset({'ghee', 'sugar'}), items_add=frozenset({'nan', 'bread'}), confidence=1.0, lift=2.0), OrderedStatistic(items_base=frozenset({'nan', 'sugar'}), items_add=frozenset({'ghee', 'bread'}), confidence=0.5, lift=1.0), OrderedStatistic(items_base=frozenset({'ghee', 'bread', 'nan'}), items_add=frozenset({'sugar'}), confidence=1.0, lift=1.0), OrderedStatistic(items_base=frozenset({'ghee', 'bread', 'sugar'}), items_add=frozenset({'nan'}), confidence=1.0, lift=1.0), OrderedStatistic(items_base=frozenset({'nan', 'bread', 'sugar'}), items_add=frozenset({'ghee'}), confidence=1.0, lift=2.0), OrderedStatistic(items_base=frozenset({'ghee', 'nan', 'sugar'}), items_add=frozenset({'bread'}), confidence=1.0, lift=2.0)])]"
            ]
          },
          "metadata": {},
          "execution_count": 10
        }
      ]
    }
  ]
}